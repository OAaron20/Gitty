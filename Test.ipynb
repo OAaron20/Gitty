{
    "cells": [
        {
            "metadata": {},
            "cell_type": "markdown",
            "source": "# My Jupyter Notebook On IBM Watson Studio"
        },
        {
            "metadata": {},
            "cell_type": "markdown",
            "source": "**Omagbemi Aaron**\n\nI am currently a mechanical engineer"
        },
        {
            "metadata": {},
            "cell_type": "markdown",
            "source": "*I'm interested in data science because it will help me in my carreer path and also our world today is becoming a data driven world*"
        },
        {
            "metadata": {},
            "cell_type": "markdown",
            "source": "### The code below calculates the value of Y"
        },
        {
            "metadata": {},
            "cell_type": "code",
            "source": "X=25\nZ=25\nY=int(X+Z)\n\nprint(\"The value of Y is\", Y)",
            "execution_count": 4,
            "outputs": [
                {
                    "output_type": "stream",
                    "text": "The value of Y is 50\n",
                    "name": "stdout"
                }
            ]
        },
        {
            "metadata": {},
            "cell_type": "markdown",
            "source": "1. First item\n2. Second item\n3. Third item\n4. Fourth item \n\n__________________\n\nTo Visit [IBM](https://www.ibm.com)\n\nEnter ``code``"
        },
        {
            "metadata": {},
            "cell_type": "code",
            "source": "",
            "execution_count": null,
            "outputs": []
        }
    ],
    "metadata": {
        "kernelspec": {
            "name": "python3",
            "display_name": "Python 3.9",
            "language": "python"
        },
        "language_info": {
            "name": "python",
            "version": "3.9.12",
            "mimetype": "text/x-python",
            "codemirror_mode": {
                "name": "ipython",
                "version": 3
            },
            "pygments_lexer": "ipython3",
            "nbconvert_exporter": "python",
            "file_extension": ".py"
        }
    },
    "nbformat": 4,
    "nbformat_minor": 1
}